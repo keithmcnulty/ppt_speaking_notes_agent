{
 "cells": [
  {
   "cell_type": "code",
   "execution_count": null,
   "id": "26b81679",
   "metadata": {},
   "outputs": [],
   "source": [
    "from noteagent import speaker\n",
    "import pandas as pd\n",
    "import os\n",
    "\n",
    "\n",
    "# Generate speaker notes\n",
    "\n",
    "await speaker.speaker_notes(\n",
    "    file=\"World-Bank-Evolution-PPT-July.pdf\",\n",
    "    audience=\"General public\",\n",
    "    context=\"Information on the World Bank, its vision and mission\",\n",
    "    output_file=\"World-Bank-Evolution-Speaker-Notes.csv\",\n",
    ")"
   ]
  },
  {
   "cell_type": "code",
   "execution_count": null,
   "id": "54ac3484",
   "metadata": {},
   "outputs": [],
   "source": [
    "# view results\n",
    "pd.set_option(\"display.max_colwidth\", None)\n",
    "pd.read_csv(\"World-Bank-Evolution-Speaker-Notes.csv\").head()"
   ]
  },
  {
   "cell_type": "code",
   "execution_count": null,
   "id": "9a4ca837",
   "metadata": {},
   "outputs": [],
   "source": []
  }
 ],
 "metadata": {
  "kernelspec": {
   "display_name": "noteagent-y91qJ-RL-py3.12",
   "language": "python",
   "name": "python3"
  },
  "language_info": {
   "codemirror_mode": {
    "name": "ipython",
    "version": 3
   },
   "file_extension": ".py",
   "mimetype": "text/x-python",
   "name": "python",
   "nbconvert_exporter": "python",
   "pygments_lexer": "ipython3",
   "version": "3.12.3"
  }
 },
 "nbformat": 4,
 "nbformat_minor": 5
}
